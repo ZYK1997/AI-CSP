{
 "cells": [
  {
   "cell_type": "code",
   "execution_count": 2,
   "metadata": {},
   "outputs": [],
   "source": [
    "import math\n",
    "import random\n",
    "import copy\n",
    "from matplotlib import pyplot as plt"
   ]
  },
  {
   "cell_type": "code",
   "execution_count": 33,
   "metadata": {},
   "outputs": [],
   "source": [
    "global N\n",
    "global state\n",
    "global avail"
   ]
  },
  {
   "cell_type": "code",
   "execution_count": 62,
   "metadata": {},
   "outputs": [
    {
     "ename": "SyntaxError",
     "evalue": "invalid syntax (<ipython-input-62-8a8a42911269>, line 36)",
     "output_type": "error",
     "traceback": [
      "\u001b[0;36m  File \u001b[0;32m\"<ipython-input-62-8a8a42911269>\"\u001b[0;36m, line \u001b[0;32m36\u001b[0m\n\u001b[0;31m    global avail:\u001b[0m\n\u001b[0m                ^\u001b[0m\n\u001b[0;31mSyntaxError\u001b[0m\u001b[0;31m:\u001b[0m invalid syntax\n"
     ]
    }
   ],
   "source": [
    "def forward_checking(n, a):\n",
    "    global state, avail\n",
    "    state[n] = a\n",
    "    for i in range(n + 1, N):\n",
    "        avail[i][a] += 1\n",
    "        if a + i - n < N:\n",
    "            avail[i][a + i - n] += 1\n",
    "        if a - i + n >= 0:\n",
    "            avail[i][a - i + n] += 1\n",
    "\n",
    "def reset_forward_checking(n, a):\n",
    "    global state, avail\n",
    "    state[n] = -1\n",
    "    for i in range(n + 1, N):\n",
    "        avail[i][a] -= 1\n",
    "        if a + i - n < N:\n",
    "            avail[i][a + i - n] -= 1\n",
    "        if a - i + n >= 0:\n",
    "            avail[i][a - i + n] -= 1\n",
    "\n",
    "def dfs_forward_checking(n):\n",
    "    global avail\n",
    "    if n >= N:\n",
    "        return 1\n",
    "\n",
    "    ret = 0\n",
    "    for (a, num) in enumerate(avail[n]):\n",
    "        if num > 0:\n",
    "            continue\n",
    "        forward_checking(n, a, avail)\n",
    "        ret += dfs_forward_checking(n + 1, avail)\n",
    "        reset_forward_checking(n, a, avail)\n",
    "    return ret\n",
    "\n",
    "def dfs_FC_1(n):\n",
    "    global avail:\n",
    "    if n >= N:\n",
    "        global state\n",
    "        print(state)\n",
    "        return True\n",
    "\n",
    "    for (a, num) in enumerate(avail[n]):\n",
    "        if num > 0:\n",
    "            continue\n",
    "        forward_checking(n, a, avail)\n",
    "        if dfs_FC_1(n + 1, avail):\n",
    "            return True\n",
    "        reset_forward_checking(n, a, avail)\n",
    "    return False\n",
    "\n",
    "def n_queens(n):\n",
    "    global N, state, avail\n",
    "    N = n\n",
    "    state = [-1 for i in range(N)]\n",
    "    avail = [[0 for j in range(N)] for i in range(N)]\n",
    "    return dfs_forward_checking(0)\n",
    "\n",
    "def n_queen(n):\n",
    "    global N, state, avail\n",
    "    N = n\n",
    "    state = [-1 for i in range(N)]\n",
    "    avail = [[0 for j in range(N)] for i in range(N)]\n",
    "    return dfs_FC_1(0)"
   ]
  },
  {
   "cell_type": "code",
   "execution_count": 59,
   "metadata": {},
   "outputs": [],
   "source": [
    "def check_backtracking(n, a):\n",
    "    global state\n",
    "    for i in range(n):\n",
    "        if a == state[i] or a + n - i == state[i] or a - n + i == state[i]:\n",
    "            return False\n",
    "    return True\n",
    "\n",
    "def dfs_backtracking(n):\n",
    "    global state\n",
    "    if n >= N:\n",
    "        return 1\n",
    "    ret = 0\n",
    "    for i in range(N):\n",
    "        if not check_backtracking(n, i):\n",
    "            continue\n",
    "        state[n] = i\n",
    "        ret += dfs_backtracking(n + 1)\n",
    "        state[n] = -1\n",
    "    return ret\n",
    "\n",
    "def dfs_BT_1(n):\n",
    "    global state\n",
    "    if n >= N:\n",
    "        print(state)\n",
    "        return True\n",
    "    for i in range(N):\n",
    "        if not check_backtracking(n, i):\n",
    "            continue\n",
    "        state[n] = i\n",
    "        if dfs_BT_1(n + 1):\n",
    "            return True\n",
    "        state[n] = -1\n",
    "    return False\n",
    "\n",
    "def n_queens2(n):\n",
    "    global N, state\n",
    "    N = n\n",
    "    state = [-1 for i in range(N)]\n",
    "    return dfs_backtracking(0)\n",
    "\n",
    "def n_queen2(n):\n",
    "    global N, state\n",
    "    N = n\n",
    "    state = [-1 for i in range(N)]\n",
    "    return dfs_BT_1(0)"
   ]
  },
  {
   "cell_type": "code",
   "execution_count": 53,
   "metadata": {},
   "outputs": [
    {
     "name": "stdout",
     "output_type": "stream",
     "text": [
      "CPU times: user 96.7 ms, sys: 3 µs, total: 96.7 ms\n",
      "Wall time: 96.1 ms\n"
     ]
    },
    {
     "data": {
      "text/plain": [
       "724"
      ]
     },
     "execution_count": 53,
     "metadata": {},
     "output_type": "execute_result"
    }
   ],
   "source": [
    "%time n_queens(10)"
   ]
  },
  {
   "cell_type": "code",
   "execution_count": 54,
   "metadata": {},
   "outputs": [
    {
     "name": "stdout",
     "output_type": "stream",
     "text": [
      "CPU times: user 252 ms, sys: 0 ns, total: 252 ms\n",
      "Wall time: 251 ms\n"
     ]
    },
    {
     "data": {
      "text/plain": [
       "724"
      ]
     },
     "execution_count": 54,
     "metadata": {},
     "output_type": "execute_result"
    }
   ],
   "source": [
    "%time n_queens2(10)"
   ]
  },
  {
   "cell_type": "code",
   "execution_count": 64,
   "metadata": {},
   "outputs": [
    {
     "name": "stdout",
     "output_type": "stream",
     "text": [
      "CPU times: user 122 ms, sys: 0 ns, total: 122 ms\n",
      "Wall time: 120 ms\n"
     ]
    },
    {
     "data": {
      "text/plain": [
       "724"
      ]
     },
     "execution_count": 64,
     "metadata": {},
     "output_type": "execute_result"
    }
   ],
   "source": [
    "%time n_queens(10)"
   ]
  },
  {
   "cell_type": "code",
   "execution_count": 56,
   "metadata": {},
   "outputs": [
    {
     "name": "stdout",
     "output_type": "stream",
     "text": [
      "[0, 2, 4, 1, 3, 8, 10, 12, 14, 20, 22, 24, 19, 21, 23, 25, 9, 6, 15, 11, 7, 5, 17, 13, 18, 16]\n",
      "CPU times: user 2.37 s, sys: 60 µs, total: 2.37 s\n",
      "Wall time: 2.37 s\n"
     ]
    },
    {
     "data": {
      "text/plain": [
       "True"
      ]
     },
     "execution_count": 56,
     "metadata": {},
     "output_type": "execute_result"
    }
   ],
   "source": [
    "%time n_queen(26)"
   ]
  },
  {
   "cell_type": "code",
   "execution_count": 61,
   "metadata": {},
   "outputs": [
    {
     "name": "stdout",
     "output_type": "stream",
     "text": [
      "[0, 2, 4, 1, 3, 8, 10, 12, 14, 20, 22, 24, 19, 21, 23, 25, 9, 6, 15, 11, 7, 5, 17, 13, 18, 16]\n",
      "CPU times: user 14.2 s, sys: 186 µs, total: 14.2 s\n",
      "Wall time: 14.2 s\n"
     ]
    },
    {
     "data": {
      "text/plain": [
       "True"
      ]
     },
     "execution_count": 61,
     "metadata": {},
     "output_type": "execute_result"
    }
   ],
   "source": [
    "%time n_queen2(26)"
   ]
  },
  {
   "cell_type": "code",
   "execution_count": 65,
   "metadata": {},
   "outputs": [
    {
     "name": "stdout",
     "output_type": "stream",
     "text": [
      "[0, 2, 4, 1, 3, 8, 10, 12, 14, 20, 22, 24, 19, 21, 23, 25, 9, 6, 15, 11, 7, 5, 17, 13, 18, 16]\n",
      "CPU times: user 2.41 s, sys: 38 µs, total: 2.41 s\n",
      "Wall time: 2.41 s\n"
     ]
    },
    {
     "data": {
      "text/plain": [
       "True"
      ]
     },
     "execution_count": 65,
     "metadata": {},
     "output_type": "execute_result"
    }
   ],
   "source": [
    "%time n_queen(26)"
   ]
  },
  {
   "cell_type": "code",
   "execution_count": 27,
   "metadata": {},
   "outputs": [],
   "source": [
    "def draw_fig(source_file, target_file, num):\n",
    "    with open(source_file) as fs:\n",
    "        ls = fs.readlines()\n",
    "        ls = list(map(lambda l: list(map(float, l.split())), ls))\n",
    "        X = list(range(len(ls)))[-num:]\n",
    "        Y1 = [l[0] for l in ls][-num:]\n",
    "        Y2 = [l[1] for l in ls][-num:]\n",
    "        plt.plot(X, Y1, label = \"forward checking\")\n",
    "        plt.plot(X, Y2, label = \"back tracking\")\n",
    "        plt.legend()\n",
    "        plt.title(target_file)\n",
    "        plt.xlabel(\"N\")\n",
    "        plt.ylabel(\"Time\")\n",
    "        plt.savefig(target_file)\n",
    "        plt.show()"
   ]
  },
  {
   "cell_type": "code",
   "execution_count": 28,
   "metadata": {},
   "outputs": [
    {
     "data": {
      "image/png": "[encoded data removed]",
      "text/plain": [
       "<Figure size 432x288 with 1 Axes>"
      ]
     },
     "metadata": {
      "needs_background": "light"
     },
     "output_type": "display_data"
    }
   ],
   "source": [
    "draw_fig(\"nQueens.txt\", \"N-Queens\", 5)"
   ]
  },
  {
   "cell_type": "code",
   "execution_count": 30,
   "metadata": {},
   "outputs": [
    {
     "data": {
      "image/png": "[encoded data removed]",
      "text/plain": [
       "<Figure size 432x288 with 1 Axes>"
      ]
     },
     "metadata": {
      "needs_background": "light"
     },
     "output_type": "display_data"
    }
   ],
   "source": [
    "draw_fig(\"nQueen.txt\", \"N-Queen\", 5)"
   ]
  },
  {
   "cell_type": "code",
   "execution_count": 82,
   "metadata": {},
   "outputs": [],
   "source": [
    "global f\n",
    "def ff(n):\n",
    "    global f\n",
    "    if n <= 2:\n",
    "        f[n] = 1\n",
    "        return f[n]\n",
    "    f[n] = ff(n - 1) + ff(n - 2)\n",
    "    return f[n]\n",
    "\n",
    "def fff(n, f):\n",
    "    if n <= 2:\n",
    "        f[n] = 1\n",
    "        return f[n]\n",
    "    f[n] = fff(n - 1, f) + fff(n - 2, f)\n",
    "    return f[n]"
   ]
  },
  {
   "cell_type": "code",
   "execution_count": 87,
   "metadata": {},
   "outputs": [
    {
     "name": "stdout",
     "output_type": "stream",
     "text": [
      "CPU times: user 2.05 s, sys: 9.95 ms, total: 2.06 s\n",
      "Wall time: 2.06 s\n",
      "CPU times: user 1.89 s, sys: 3.33 ms, total: 1.89 s\n",
      "Wall time: 1.89 s\n"
     ]
    },
    {
     "data": {
      "text/plain": [
       "9227465"
      ]
     },
     "execution_count": 87,
     "metadata": {},
     "output_type": "execute_result"
    }
   ],
   "source": [
    "f = [0 for i in range(100)]\n",
    "%time ff(35)\n",
    "f = [0 for i in range(100)]\n",
    "%time fff(35, f)"
   ]
  },
  {
   "cell_type": "code",
   "execution_count": 84,
   "metadata": {},
   "outputs": [
    {
     "name": "stdout",
     "output_type": "stream",
     "text": [
      "CPU times: user 1.93 s, sys: 5 µs, total: 1.93 s\n",
      "Wall time: 1.93 s\n"
     ]
    },
    {
     "data": {
      "text/plain": [
       "9227465"
      ]
     },
     "execution_count": 84,
     "metadata": {},
     "output_type": "execute_result"
    }
   ],
   "source": [
    "f = [0 for i in range(100)]\n",
    "%time fff(35, f)"
   ]
  },
  {
   "cell_type": "code",
   "execution_count": null,
   "metadata": {},
   "outputs": [],
   "source": []
  }
 ],
 "metadata": {
  "@webio": {
   "lastCommId": "e54c78b738a14eb79ed19af7f3325cfb",
   "lastKernelId": "1c7f57ce-9516-4bb2-a374-6be418bafbc0"
  },
  "kernelspec": {
   "display_name": "Python 3",
   "language": "python",
   "name": "python3"
  },
  "language_info": {
   "codemirror_mode": {
    "name": "ipython",
    "version": 3
   },
   "file_extension": ".py",
   "mimetype": "text/x-python",
   "name": "python",
   "nbconvert_exporter": "python",
   "pygments_lexer": "ipython3",
   "version": "3.7.0"
  }
 },
 "nbformat": 4,
 "nbformat_minor": 2
}
