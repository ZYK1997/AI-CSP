{
 "cells": [
  {
   "cell_type": "code",
   "execution_count": 3,
   "metadata": {},
   "outputs": [],
   "source": [
    "import math\n",
    "import random\n",
    "import copy"
   ]
  },
  {
   "cell_type": "code",
   "execution_count": 72,
   "metadata": {},
   "outputs": [],
   "source": [
    "global N"
   ]
  },
  {
   "cell_type": "code",
   "execution_count": 106,
   "metadata": {},
   "outputs": [],
   "source": [
    "def forward_checking(n, a, avail):\n",
    "    for i in range(n + 1, N):\n",
    "        avail[i][a] += 1\n",
    "        if a + i - n < N:\n",
    "            avail[i][a + i - n] += 1\n",
    "        if a - i + n >= 0:\n",
    "            avail[i][a - i + n] += 1\n",
    "\n",
    "def reset_forward_checking(n, a, avail):\n",
    "    for i in range(n + 1, N):\n",
    "        avail[i][a] -= 1\n",
    "        if a + i - n < N:\n",
    "            avail[i][a + i - n] -= 1\n",
    "        if a - i + n >= 0:\n",
    "            avail[i][a - i + n] -= 1\n",
    "\n",
    "def dfs_forward_checking(n, avail):\n",
    "    if n >= N:\n",
    "        return 1\n",
    "\n",
    "    ret = 0\n",
    "    for (a, num) in enumerate(avail[n]):\n",
    "        if num > 0:\n",
    "            continue\n",
    "        forward_checking(n, a, avail)\n",
    "        ret += dfs_forward_checking(n + 1, avail)\n",
    "        reset_forward_checking(n, a, avail)\n",
    "    return ret\n"
   ]
  },
  {
   "cell_type": "code",
   "execution_count": 103,
   "metadata": {},
   "outputs": [],
   "source": [
    "def check_backtracking(n, state, a):\n",
    "    for i in range(n):\n",
    "        if a == state[i] or a + n - i == state[i] or a - n + i == state[i]:\n",
    "            return False\n",
    "    return True\n",
    "\n",
    "def dfs_backtracking(n, state):\n",
    "    if n >= N:\n",
    "        return 1\n",
    "    ret = 0\n",
    "    for i in range(N):\n",
    "        if not check_backtracking(n, state, i):\n",
    "            continue\n",
    "        state[n] = i\n",
    "        ret += dfs_backtracking(n + 1, state)\n",
    "        state[n] = -1\n",
    "    return ret"
   ]
  },
  {
   "cell_type": "code",
   "execution_count": 107,
   "metadata": {},
   "outputs": [],
   "source": [
    "def n_queens(n):\n",
    "    global N\n",
    "    N = n\n",
    "    return dfs_forward_checking(0, [[0 for j in range(N)] for i in range(N)])\n",
    "    # return dfs_backtracking(0, [-1 for i in range(N)])"
   ]
  },
  {
   "cell_type": "code",
   "execution_count": 109,
   "metadata": {},
   "outputs": [
    {
     "name": "stdout",
     "output_type": "stream",
     "text": [
      "Wall time: 2.95 s\n"
     ]
    },
    {
     "data": {
      "text/plain": [
       "2680"
      ]
     },
     "execution_count": 109,
     "metadata": {},
     "output_type": "execute_result"
    }
   ],
   "source": [
    "%time n_queens(11)"
   ]
  },
  {
   "cell_type": "code",
   "execution_count": null,
   "metadata": {},
   "outputs": [],
   "source": []
  },
  {
   "cell_type": "code",
   "execution_count": null,
   "metadata": {},
   "outputs": [],
   "source": []
  }
 ],
 "metadata": {
  "kernelspec": {
   "display_name": "Python 3",
   "language": "python",
   "name": "python3"
  },
  "language_info": {
   "codemirror_mode": {
    "name": "ipython",
    "version": 3
   },
   "file_extension": ".py",
   "mimetype": "text/x-python",
   "name": "python",
   "nbconvert_exporter": "python",
   "pygments_lexer": "ipython3",
   "version": "3.6.1"
  }
 },
 "nbformat": 4,
 "nbformat_minor": 2
}
